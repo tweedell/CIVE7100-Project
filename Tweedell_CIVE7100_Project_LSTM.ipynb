{
  "nbformat": 4,
  "nbformat_minor": 0,
  "metadata": {
    "colab": {
      "provenance": [],
      "toc_visible": true,
      "gpuType": "T4"
    },
    "kernelspec": {
      "name": "python3",
      "display_name": "Python 3"
    },
    "language_info": {
      "name": "python"
    },
    "accelerator": "GPU"
  },
  "cells": [
    {
      "cell_type": "markdown",
      "source": [
        "#Imports"
      ],
      "metadata": {
        "id": "jCDcJHz_Hlyk"
      }
    },
    {
      "cell_type": "code",
      "execution_count": null,
      "metadata": {
        "id": "dDDoQtLerxx_"
      },
      "outputs": [],
      "source": [
        "from datetime import datetime\n",
        "from distutils.util import strtobool\n",
        "import matplotlib.pyplot as plt\n",
        "import pandas as pd\n",
        "import numpy as np\n",
        "import seaborn as sns\n",
        "\n",
        "from sklearn.preprocessing import MinMaxScaler\n",
        "from sklearn import set_config\n",
        "from sklearn.metrics import mean_squared_error\n",
        "set_config(transform_output = \"pandas\")\n",
        "from sklearn.neural_network import MLPRegressor as mlpregressor\n",
        "\n",
        "import torch\n",
        "import torch.nn as nn\n",
        "from torch.utils.data import DataLoader, TensorDataset\n",
        "from torchsummary import summary\n",
        "from tqdm import trange"
      ]
    },
    {
      "cell_type": "markdown",
      "source": [
        "#Load Data"
      ],
      "metadata": {
        "id": "FPVxk6ymS-3Z"
      }
    },
    {
      "cell_type": "code",
      "source": [
        "bitcoin = pd.read_csv(\"/content/drive/MyDrive/CIVE7100/bitcoinData.csv\", index_col = 0)\n",
        "bitcoin = bitcoin[['google_trends', 'difficulty', 'active_addresses', 'price']]\n",
        "bitcoin['returns'] = bitcoin['price'].astype('float64') - bitcoin['price'].astype('float64').shift(1)\n",
        "bitcoin.dropna(inplace = True)\n",
        "bitcoin.head()"
      ],
      "metadata": {
        "colab": {
          "base_uri": "https://localhost:8080/",
          "height": 206
        },
        "id": "jeCjPEY8DlPI",
        "outputId": "d41350a8-f362-4f7e-96c3-68caf03c6172"
      },
      "execution_count": null,
      "outputs": [
        {
          "output_type": "execute_result",
          "data": {
            "text/plain": [
              "            google_trends    difficulty  active_addresses    price  returns\n",
              "2014-04-10         13.854  6.119726e+09          182996.0  407.703  -39.407\n",
              "2014-04-11         12.997  6.119726e+09          169622.0  403.328   -4.375\n",
              "2014-04-12          9.229  6.119726e+09          132283.0  425.310   21.982\n",
              "2014-04-13         10.385  6.119726e+09          172708.0  415.876   -9.434\n",
              "2014-04-14         10.754  6.119726e+09          183291.0  445.898   30.022"
            ],
            "text/html": [
              "\n",
              "  <div id=\"df-40d35b0c-f2e2-4ed7-8dd4-ef6b975f0ba3\" class=\"colab-df-container\">\n",
              "    <div>\n",
              "<style scoped>\n",
              "    .dataframe tbody tr th:only-of-type {\n",
              "        vertical-align: middle;\n",
              "    }\n",
              "\n",
              "    .dataframe tbody tr th {\n",
              "        vertical-align: top;\n",
              "    }\n",
              "\n",
              "    .dataframe thead th {\n",
              "        text-align: right;\n",
              "    }\n",
              "</style>\n",
              "<table border=\"1\" class=\"dataframe\">\n",
              "  <thead>\n",
              "    <tr style=\"text-align: right;\">\n",
              "      <th></th>\n",
              "      <th>google_trends</th>\n",
              "      <th>difficulty</th>\n",
              "      <th>active_addresses</th>\n",
              "      <th>price</th>\n",
              "      <th>returns</th>\n",
              "    </tr>\n",
              "  </thead>\n",
              "  <tbody>\n",
              "    <tr>\n",
              "      <th>2014-04-10</th>\n",
              "      <td>13.854</td>\n",
              "      <td>6.119726e+09</td>\n",
              "      <td>182996.0</td>\n",
              "      <td>407.703</td>\n",
              "      <td>-39.407</td>\n",
              "    </tr>\n",
              "    <tr>\n",
              "      <th>2014-04-11</th>\n",
              "      <td>12.997</td>\n",
              "      <td>6.119726e+09</td>\n",
              "      <td>169622.0</td>\n",
              "      <td>403.328</td>\n",
              "      <td>-4.375</td>\n",
              "    </tr>\n",
              "    <tr>\n",
              "      <th>2014-04-12</th>\n",
              "      <td>9.229</td>\n",
              "      <td>6.119726e+09</td>\n",
              "      <td>132283.0</td>\n",
              "      <td>425.310</td>\n",
              "      <td>21.982</td>\n",
              "    </tr>\n",
              "    <tr>\n",
              "      <th>2014-04-13</th>\n",
              "      <td>10.385</td>\n",
              "      <td>6.119726e+09</td>\n",
              "      <td>172708.0</td>\n",
              "      <td>415.876</td>\n",
              "      <td>-9.434</td>\n",
              "    </tr>\n",
              "    <tr>\n",
              "      <th>2014-04-14</th>\n",
              "      <td>10.754</td>\n",
              "      <td>6.119726e+09</td>\n",
              "      <td>183291.0</td>\n",
              "      <td>445.898</td>\n",
              "      <td>30.022</td>\n",
              "    </tr>\n",
              "  </tbody>\n",
              "</table>\n",
              "</div>\n",
              "    <div class=\"colab-df-buttons\">\n",
              "\n",
              "  <div class=\"colab-df-container\">\n",
              "    <button class=\"colab-df-convert\" onclick=\"convertToInteractive('df-40d35b0c-f2e2-4ed7-8dd4-ef6b975f0ba3')\"\n",
              "            title=\"Convert this dataframe to an interactive table.\"\n",
              "            style=\"display:none;\">\n",
              "\n",
              "  <svg xmlns=\"http://www.w3.org/2000/svg\" height=\"24px\" viewBox=\"0 -960 960 960\">\n",
              "    <path d=\"M120-120v-720h720v720H120Zm60-500h600v-160H180v160Zm220 220h160v-160H400v160Zm0 220h160v-160H400v160ZM180-400h160v-160H180v160Zm440 0h160v-160H620v160ZM180-180h160v-160H180v160Zm440 0h160v-160H620v160Z\"/>\n",
              "  </svg>\n",
              "    </button>\n",
              "\n",
              "  <style>\n",
              "    .colab-df-container {\n",
              "      display:flex;\n",
              "      gap: 12px;\n",
              "    }\n",
              "\n",
              "    .colab-df-convert {\n",
              "      background-color: #E8F0FE;\n",
              "      border: none;\n",
              "      border-radius: 50%;\n",
              "      cursor: pointer;\n",
              "      display: none;\n",
              "      fill: #1967D2;\n",
              "      height: 32px;\n",
              "      padding: 0 0 0 0;\n",
              "      width: 32px;\n",
              "    }\n",
              "\n",
              "    .colab-df-convert:hover {\n",
              "      background-color: #E2EBFA;\n",
              "      box-shadow: 0px 1px 2px rgba(60, 64, 67, 0.3), 0px 1px 3px 1px rgba(60, 64, 67, 0.15);\n",
              "      fill: #174EA6;\n",
              "    }\n",
              "\n",
              "    .colab-df-buttons div {\n",
              "      margin-bottom: 4px;\n",
              "    }\n",
              "\n",
              "    [theme=dark] .colab-df-convert {\n",
              "      background-color: #3B4455;\n",
              "      fill: #D2E3FC;\n",
              "    }\n",
              "\n",
              "    [theme=dark] .colab-df-convert:hover {\n",
              "      background-color: #434B5C;\n",
              "      box-shadow: 0px 1px 3px 1px rgba(0, 0, 0, 0.15);\n",
              "      filter: drop-shadow(0px 1px 2px rgba(0, 0, 0, 0.3));\n",
              "      fill: #FFFFFF;\n",
              "    }\n",
              "  </style>\n",
              "\n",
              "    <script>\n",
              "      const buttonEl =\n",
              "        document.querySelector('#df-40d35b0c-f2e2-4ed7-8dd4-ef6b975f0ba3 button.colab-df-convert');\n",
              "      buttonEl.style.display =\n",
              "        google.colab.kernel.accessAllowed ? 'block' : 'none';\n",
              "\n",
              "      async function convertToInteractive(key) {\n",
              "        const element = document.querySelector('#df-40d35b0c-f2e2-4ed7-8dd4-ef6b975f0ba3');\n",
              "        const dataTable =\n",
              "          await google.colab.kernel.invokeFunction('convertToInteractive',\n",
              "                                                    [key], {});\n",
              "        if (!dataTable) return;\n",
              "\n",
              "        const docLinkHtml = 'Like what you see? Visit the ' +\n",
              "          '<a target=\"_blank\" href=https://colab.research.google.com/notebooks/data_table.ipynb>data table notebook</a>'\n",
              "          + ' to learn more about interactive tables.';\n",
              "        element.innerHTML = '';\n",
              "        dataTable['output_type'] = 'display_data';\n",
              "        await google.colab.output.renderOutput(dataTable, element);\n",
              "        const docLink = document.createElement('div');\n",
              "        docLink.innerHTML = docLinkHtml;\n",
              "        element.appendChild(docLink);\n",
              "      }\n",
              "    </script>\n",
              "  </div>\n",
              "\n",
              "\n",
              "<div id=\"df-cb314c1f-42b0-4601-a094-ba21d841c834\">\n",
              "  <button class=\"colab-df-quickchart\" onclick=\"quickchart('df-cb314c1f-42b0-4601-a094-ba21d841c834')\"\n",
              "            title=\"Suggest charts\"\n",
              "            style=\"display:none;\">\n",
              "\n",
              "<svg xmlns=\"http://www.w3.org/2000/svg\" height=\"24px\"viewBox=\"0 0 24 24\"\n",
              "     width=\"24px\">\n",
              "    <g>\n",
              "        <path d=\"M19 3H5c-1.1 0-2 .9-2 2v14c0 1.1.9 2 2 2h14c1.1 0 2-.9 2-2V5c0-1.1-.9-2-2-2zM9 17H7v-7h2v7zm4 0h-2V7h2v10zm4 0h-2v-4h2v4z\"/>\n",
              "    </g>\n",
              "</svg>\n",
              "  </button>\n",
              "\n",
              "<style>\n",
              "  .colab-df-quickchart {\n",
              "      --bg-color: #E8F0FE;\n",
              "      --fill-color: #1967D2;\n",
              "      --hover-bg-color: #E2EBFA;\n",
              "      --hover-fill-color: #174EA6;\n",
              "      --disabled-fill-color: #AAA;\n",
              "      --disabled-bg-color: #DDD;\n",
              "  }\n",
              "\n",
              "  [theme=dark] .colab-df-quickchart {\n",
              "      --bg-color: #3B4455;\n",
              "      --fill-color: #D2E3FC;\n",
              "      --hover-bg-color: #434B5C;\n",
              "      --hover-fill-color: #FFFFFF;\n",
              "      --disabled-bg-color: #3B4455;\n",
              "      --disabled-fill-color: #666;\n",
              "  }\n",
              "\n",
              "  .colab-df-quickchart {\n",
              "    background-color: var(--bg-color);\n",
              "    border: none;\n",
              "    border-radius: 50%;\n",
              "    cursor: pointer;\n",
              "    display: none;\n",
              "    fill: var(--fill-color);\n",
              "    height: 32px;\n",
              "    padding: 0;\n",
              "    width: 32px;\n",
              "  }\n",
              "\n",
              "  .colab-df-quickchart:hover {\n",
              "    background-color: var(--hover-bg-color);\n",
              "    box-shadow: 0 1px 2px rgba(60, 64, 67, 0.3), 0 1px 3px 1px rgba(60, 64, 67, 0.15);\n",
              "    fill: var(--button-hover-fill-color);\n",
              "  }\n",
              "\n",
              "  .colab-df-quickchart-complete:disabled,\n",
              "  .colab-df-quickchart-complete:disabled:hover {\n",
              "    background-color: var(--disabled-bg-color);\n",
              "    fill: var(--disabled-fill-color);\n",
              "    box-shadow: none;\n",
              "  }\n",
              "\n",
              "  .colab-df-spinner {\n",
              "    border: 2px solid var(--fill-color);\n",
              "    border-color: transparent;\n",
              "    border-bottom-color: var(--fill-color);\n",
              "    animation:\n",
              "      spin 1s steps(1) infinite;\n",
              "  }\n",
              "\n",
              "  @keyframes spin {\n",
              "    0% {\n",
              "      border-color: transparent;\n",
              "      border-bottom-color: var(--fill-color);\n",
              "      border-left-color: var(--fill-color);\n",
              "    }\n",
              "    20% {\n",
              "      border-color: transparent;\n",
              "      border-left-color: var(--fill-color);\n",
              "      border-top-color: var(--fill-color);\n",
              "    }\n",
              "    30% {\n",
              "      border-color: transparent;\n",
              "      border-left-color: var(--fill-color);\n",
              "      border-top-color: var(--fill-color);\n",
              "      border-right-color: var(--fill-color);\n",
              "    }\n",
              "    40% {\n",
              "      border-color: transparent;\n",
              "      border-right-color: var(--fill-color);\n",
              "      border-top-color: var(--fill-color);\n",
              "    }\n",
              "    60% {\n",
              "      border-color: transparent;\n",
              "      border-right-color: var(--fill-color);\n",
              "    }\n",
              "    80% {\n",
              "      border-color: transparent;\n",
              "      border-right-color: var(--fill-color);\n",
              "      border-bottom-color: var(--fill-color);\n",
              "    }\n",
              "    90% {\n",
              "      border-color: transparent;\n",
              "      border-bottom-color: var(--fill-color);\n",
              "    }\n",
              "  }\n",
              "</style>\n",
              "\n",
              "  <script>\n",
              "    async function quickchart(key) {\n",
              "      const quickchartButtonEl =\n",
              "        document.querySelector('#' + key + ' button');\n",
              "      quickchartButtonEl.disabled = true;  // To prevent multiple clicks.\n",
              "      quickchartButtonEl.classList.add('colab-df-spinner');\n",
              "      try {\n",
              "        const charts = await google.colab.kernel.invokeFunction(\n",
              "            'suggestCharts', [key], {});\n",
              "      } catch (error) {\n",
              "        console.error('Error during call to suggestCharts:', error);\n",
              "      }\n",
              "      quickchartButtonEl.classList.remove('colab-df-spinner');\n",
              "      quickchartButtonEl.classList.add('colab-df-quickchart-complete');\n",
              "    }\n",
              "    (() => {\n",
              "      let quickchartButtonEl =\n",
              "        document.querySelector('#df-cb314c1f-42b0-4601-a094-ba21d841c834 button');\n",
              "      quickchartButtonEl.style.display =\n",
              "        google.colab.kernel.accessAllowed ? 'block' : 'none';\n",
              "    })();\n",
              "  </script>\n",
              "</div>\n",
              "    </div>\n",
              "  </div>\n"
            ]
          },
          "metadata": {},
          "execution_count": 17
        }
      ]
    },
    {
      "cell_type": "code",
      "source": [
        "bitcoin['logReturn'] = np.log(bitcoin['price'].astype('float64')/bitcoin['price'].astype('float64').shift(1))\n",
        "bitcoin.dropna(inplace = True)\n",
        "bitcoin.drop(['returns', 'price'], axis = 1, inplace = True)\n",
        "bitcoin.head()"
      ],
      "metadata": {
        "colab": {
          "base_uri": "https://localhost:8080/",
          "height": 206
        },
        "id": "SgxQkF2-seVj",
        "outputId": "23149407-dfc8-42b0-b5d6-9377f9762e0f"
      },
      "execution_count": null,
      "outputs": [
        {
          "output_type": "execute_result",
          "data": {
            "text/plain": [
              "            google_trends    difficulty  active_addresses  logReturn\n",
              "2014-04-11         12.997  6.119726e+09          169622.0  -0.010789\n",
              "2014-04-12          9.229  6.119726e+09          132283.0   0.053068\n",
              "2014-04-13         10.385  6.119726e+09          172708.0  -0.022431\n",
              "2014-04-14         10.754  6.119726e+09          183291.0   0.069703\n",
              "2014-04-15         11.053  6.119726e+09          199054.0   0.089541"
            ],
            "text/html": [
              "\n",
              "  <div id=\"df-9a2bcfb6-320e-4816-a111-bce09ad7d7d0\" class=\"colab-df-container\">\n",
              "    <div>\n",
              "<style scoped>\n",
              "    .dataframe tbody tr th:only-of-type {\n",
              "        vertical-align: middle;\n",
              "    }\n",
              "\n",
              "    .dataframe tbody tr th {\n",
              "        vertical-align: top;\n",
              "    }\n",
              "\n",
              "    .dataframe thead th {\n",
              "        text-align: right;\n",
              "    }\n",
              "</style>\n",
              "<table border=\"1\" class=\"dataframe\">\n",
              "  <thead>\n",
              "    <tr style=\"text-align: right;\">\n",
              "      <th></th>\n",
              "      <th>google_trends</th>\n",
              "      <th>difficulty</th>\n",
              "      <th>active_addresses</th>\n",
              "      <th>logReturn</th>\n",
              "    </tr>\n",
              "  </thead>\n",
              "  <tbody>\n",
              "    <tr>\n",
              "      <th>2014-04-11</th>\n",
              "      <td>12.997</td>\n",
              "      <td>6.119726e+09</td>\n",
              "      <td>169622.0</td>\n",
              "      <td>-0.010789</td>\n",
              "    </tr>\n",
              "    <tr>\n",
              "      <th>2014-04-12</th>\n",
              "      <td>9.229</td>\n",
              "      <td>6.119726e+09</td>\n",
              "      <td>132283.0</td>\n",
              "      <td>0.053068</td>\n",
              "    </tr>\n",
              "    <tr>\n",
              "      <th>2014-04-13</th>\n",
              "      <td>10.385</td>\n",
              "      <td>6.119726e+09</td>\n",
              "      <td>172708.0</td>\n",
              "      <td>-0.022431</td>\n",
              "    </tr>\n",
              "    <tr>\n",
              "      <th>2014-04-14</th>\n",
              "      <td>10.754</td>\n",
              "      <td>6.119726e+09</td>\n",
              "      <td>183291.0</td>\n",
              "      <td>0.069703</td>\n",
              "    </tr>\n",
              "    <tr>\n",
              "      <th>2014-04-15</th>\n",
              "      <td>11.053</td>\n",
              "      <td>6.119726e+09</td>\n",
              "      <td>199054.0</td>\n",
              "      <td>0.089541</td>\n",
              "    </tr>\n",
              "  </tbody>\n",
              "</table>\n",
              "</div>\n",
              "    <div class=\"colab-df-buttons\">\n",
              "\n",
              "  <div class=\"colab-df-container\">\n",
              "    <button class=\"colab-df-convert\" onclick=\"convertToInteractive('df-9a2bcfb6-320e-4816-a111-bce09ad7d7d0')\"\n",
              "            title=\"Convert this dataframe to an interactive table.\"\n",
              "            style=\"display:none;\">\n",
              "\n",
              "  <svg xmlns=\"http://www.w3.org/2000/svg\" height=\"24px\" viewBox=\"0 -960 960 960\">\n",
              "    <path d=\"M120-120v-720h720v720H120Zm60-500h600v-160H180v160Zm220 220h160v-160H400v160Zm0 220h160v-160H400v160ZM180-400h160v-160H180v160Zm440 0h160v-160H620v160ZM180-180h160v-160H180v160Zm440 0h160v-160H620v160Z\"/>\n",
              "  </svg>\n",
              "    </button>\n",
              "\n",
              "  <style>\n",
              "    .colab-df-container {\n",
              "      display:flex;\n",
              "      gap: 12px;\n",
              "    }\n",
              "\n",
              "    .colab-df-convert {\n",
              "      background-color: #E8F0FE;\n",
              "      border: none;\n",
              "      border-radius: 50%;\n",
              "      cursor: pointer;\n",
              "      display: none;\n",
              "      fill: #1967D2;\n",
              "      height: 32px;\n",
              "      padding: 0 0 0 0;\n",
              "      width: 32px;\n",
              "    }\n",
              "\n",
              "    .colab-df-convert:hover {\n",
              "      background-color: #E2EBFA;\n",
              "      box-shadow: 0px 1px 2px rgba(60, 64, 67, 0.3), 0px 1px 3px 1px rgba(60, 64, 67, 0.15);\n",
              "      fill: #174EA6;\n",
              "    }\n",
              "\n",
              "    .colab-df-buttons div {\n",
              "      margin-bottom: 4px;\n",
              "    }\n",
              "\n",
              "    [theme=dark] .colab-df-convert {\n",
              "      background-color: #3B4455;\n",
              "      fill: #D2E3FC;\n",
              "    }\n",
              "\n",
              "    [theme=dark] .colab-df-convert:hover {\n",
              "      background-color: #434B5C;\n",
              "      box-shadow: 0px 1px 3px 1px rgba(0, 0, 0, 0.15);\n",
              "      filter: drop-shadow(0px 1px 2px rgba(0, 0, 0, 0.3));\n",
              "      fill: #FFFFFF;\n",
              "    }\n",
              "  </style>\n",
              "\n",
              "    <script>\n",
              "      const buttonEl =\n",
              "        document.querySelector('#df-9a2bcfb6-320e-4816-a111-bce09ad7d7d0 button.colab-df-convert');\n",
              "      buttonEl.style.display =\n",
              "        google.colab.kernel.accessAllowed ? 'block' : 'none';\n",
              "\n",
              "      async function convertToInteractive(key) {\n",
              "        const element = document.querySelector('#df-9a2bcfb6-320e-4816-a111-bce09ad7d7d0');\n",
              "        const dataTable =\n",
              "          await google.colab.kernel.invokeFunction('convertToInteractive',\n",
              "                                                    [key], {});\n",
              "        if (!dataTable) return;\n",
              "\n",
              "        const docLinkHtml = 'Like what you see? Visit the ' +\n",
              "          '<a target=\"_blank\" href=https://colab.research.google.com/notebooks/data_table.ipynb>data table notebook</a>'\n",
              "          + ' to learn more about interactive tables.';\n",
              "        element.innerHTML = '';\n",
              "        dataTable['output_type'] = 'display_data';\n",
              "        await google.colab.output.renderOutput(dataTable, element);\n",
              "        const docLink = document.createElement('div');\n",
              "        docLink.innerHTML = docLinkHtml;\n",
              "        element.appendChild(docLink);\n",
              "      }\n",
              "    </script>\n",
              "  </div>\n",
              "\n",
              "\n",
              "<div id=\"df-f7877edc-7410-48cc-93b0-fe8703ecea08\">\n",
              "  <button class=\"colab-df-quickchart\" onclick=\"quickchart('df-f7877edc-7410-48cc-93b0-fe8703ecea08')\"\n",
              "            title=\"Suggest charts\"\n",
              "            style=\"display:none;\">\n",
              "\n",
              "<svg xmlns=\"http://www.w3.org/2000/svg\" height=\"24px\"viewBox=\"0 0 24 24\"\n",
              "     width=\"24px\">\n",
              "    <g>\n",
              "        <path d=\"M19 3H5c-1.1 0-2 .9-2 2v14c0 1.1.9 2 2 2h14c1.1 0 2-.9 2-2V5c0-1.1-.9-2-2-2zM9 17H7v-7h2v7zm4 0h-2V7h2v10zm4 0h-2v-4h2v4z\"/>\n",
              "    </g>\n",
              "</svg>\n",
              "  </button>\n",
              "\n",
              "<style>\n",
              "  .colab-df-quickchart {\n",
              "      --bg-color: #E8F0FE;\n",
              "      --fill-color: #1967D2;\n",
              "      --hover-bg-color: #E2EBFA;\n",
              "      --hover-fill-color: #174EA6;\n",
              "      --disabled-fill-color: #AAA;\n",
              "      --disabled-bg-color: #DDD;\n",
              "  }\n",
              "\n",
              "  [theme=dark] .colab-df-quickchart {\n",
              "      --bg-color: #3B4455;\n",
              "      --fill-color: #D2E3FC;\n",
              "      --hover-bg-color: #434B5C;\n",
              "      --hover-fill-color: #FFFFFF;\n",
              "      --disabled-bg-color: #3B4455;\n",
              "      --disabled-fill-color: #666;\n",
              "  }\n",
              "\n",
              "  .colab-df-quickchart {\n",
              "    background-color: var(--bg-color);\n",
              "    border: none;\n",
              "    border-radius: 50%;\n",
              "    cursor: pointer;\n",
              "    display: none;\n",
              "    fill: var(--fill-color);\n",
              "    height: 32px;\n",
              "    padding: 0;\n",
              "    width: 32px;\n",
              "  }\n",
              "\n",
              "  .colab-df-quickchart:hover {\n",
              "    background-color: var(--hover-bg-color);\n",
              "    box-shadow: 0 1px 2px rgba(60, 64, 67, 0.3), 0 1px 3px 1px rgba(60, 64, 67, 0.15);\n",
              "    fill: var(--button-hover-fill-color);\n",
              "  }\n",
              "\n",
              "  .colab-df-quickchart-complete:disabled,\n",
              "  .colab-df-quickchart-complete:disabled:hover {\n",
              "    background-color: var(--disabled-bg-color);\n",
              "    fill: var(--disabled-fill-color);\n",
              "    box-shadow: none;\n",
              "  }\n",
              "\n",
              "  .colab-df-spinner {\n",
              "    border: 2px solid var(--fill-color);\n",
              "    border-color: transparent;\n",
              "    border-bottom-color: var(--fill-color);\n",
              "    animation:\n",
              "      spin 1s steps(1) infinite;\n",
              "  }\n",
              "\n",
              "  @keyframes spin {\n",
              "    0% {\n",
              "      border-color: transparent;\n",
              "      border-bottom-color: var(--fill-color);\n",
              "      border-left-color: var(--fill-color);\n",
              "    }\n",
              "    20% {\n",
              "      border-color: transparent;\n",
              "      border-left-color: var(--fill-color);\n",
              "      border-top-color: var(--fill-color);\n",
              "    }\n",
              "    30% {\n",
              "      border-color: transparent;\n",
              "      border-left-color: var(--fill-color);\n",
              "      border-top-color: var(--fill-color);\n",
              "      border-right-color: var(--fill-color);\n",
              "    }\n",
              "    40% {\n",
              "      border-color: transparent;\n",
              "      border-right-color: var(--fill-color);\n",
              "      border-top-color: var(--fill-color);\n",
              "    }\n",
              "    60% {\n",
              "      border-color: transparent;\n",
              "      border-right-color: var(--fill-color);\n",
              "    }\n",
              "    80% {\n",
              "      border-color: transparent;\n",
              "      border-right-color: var(--fill-color);\n",
              "      border-bottom-color: var(--fill-color);\n",
              "    }\n",
              "    90% {\n",
              "      border-color: transparent;\n",
              "      border-bottom-color: var(--fill-color);\n",
              "    }\n",
              "  }\n",
              "</style>\n",
              "\n",
              "  <script>\n",
              "    async function quickchart(key) {\n",
              "      const quickchartButtonEl =\n",
              "        document.querySelector('#' + key + ' button');\n",
              "      quickchartButtonEl.disabled = true;  // To prevent multiple clicks.\n",
              "      quickchartButtonEl.classList.add('colab-df-spinner');\n",
              "      try {\n",
              "        const charts = await google.colab.kernel.invokeFunction(\n",
              "            'suggestCharts', [key], {});\n",
              "      } catch (error) {\n",
              "        console.error('Error during call to suggestCharts:', error);\n",
              "      }\n",
              "      quickchartButtonEl.classList.remove('colab-df-spinner');\n",
              "      quickchartButtonEl.classList.add('colab-df-quickchart-complete');\n",
              "    }\n",
              "    (() => {\n",
              "      let quickchartButtonEl =\n",
              "        document.querySelector('#df-f7877edc-7410-48cc-93b0-fe8703ecea08 button');\n",
              "      quickchartButtonEl.style.display =\n",
              "        google.colab.kernel.accessAllowed ? 'block' : 'none';\n",
              "    })();\n",
              "  </script>\n",
              "</div>\n",
              "    </div>\n",
              "  </div>\n"
            ]
          },
          "metadata": {},
          "execution_count": 18
        }
      ]
    },
    {
      "cell_type": "code",
      "source": [
        "bitcoinFeatures = bitcoin.copy()\n",
        "bitcoinLogReturn = bitcoin['logReturn'].copy()"
      ],
      "metadata": {
        "id": "2xPMTLgV-sPk"
      },
      "execution_count": null,
      "outputs": []
    },
    {
      "cell_type": "markdown",
      "source": [
        "#MinMax Normalization"
      ],
      "metadata": {
        "id": "b8tmnvNcwNZ6"
      }
    },
    {
      "cell_type": "code",
      "source": [
        "scaler = MinMaxScaler()\n",
        "bitcoinFeatures = scaler.fit_transform(bitcoinFeatures.drop(['logReturn'], axis = 1))\n",
        "bitcoinFeatures = pd.concat([bitcoinFeatures, bitcoinLogReturn], axis = 1)\n",
        "bitcoinFeatures.head()"
      ],
      "metadata": {
        "id": "ATY6bf8q3ynW",
        "colab": {
          "base_uri": "https://localhost:8080/",
          "height": 206
        },
        "outputId": "33bd5af5-51ce-40ef-b286-7fe244d0e137"
      },
      "execution_count": null,
      "outputs": [
        {
          "output_type": "execute_result",
          "data": {
            "text/plain": [
              "            google_trends  difficulty  active_addresses  logReturn\n",
              "2014-04-11       0.012637         0.0          0.051984  -0.010789\n",
              "2014-04-12       0.006476         0.0          0.017498   0.053068\n",
              "2014-04-13       0.008367         0.0          0.054834  -0.022431\n",
              "2014-04-14       0.008970         0.0          0.064609   0.069703\n",
              "2014-04-15       0.009459         0.0          0.079167   0.089541"
            ],
            "text/html": [
              "\n",
              "  <div id=\"df-20bad19e-e1cc-46dc-be86-e02ded3aa550\" class=\"colab-df-container\">\n",
              "    <div>\n",
              "<style scoped>\n",
              "    .dataframe tbody tr th:only-of-type {\n",
              "        vertical-align: middle;\n",
              "    }\n",
              "\n",
              "    .dataframe tbody tr th {\n",
              "        vertical-align: top;\n",
              "    }\n",
              "\n",
              "    .dataframe thead th {\n",
              "        text-align: right;\n",
              "    }\n",
              "</style>\n",
              "<table border=\"1\" class=\"dataframe\">\n",
              "  <thead>\n",
              "    <tr style=\"text-align: right;\">\n",
              "      <th></th>\n",
              "      <th>google_trends</th>\n",
              "      <th>difficulty</th>\n",
              "      <th>active_addresses</th>\n",
              "      <th>logReturn</th>\n",
              "    </tr>\n",
              "  </thead>\n",
              "  <tbody>\n",
              "    <tr>\n",
              "      <th>2014-04-11</th>\n",
              "      <td>0.012637</td>\n",
              "      <td>0.0</td>\n",
              "      <td>0.051984</td>\n",
              "      <td>-0.010789</td>\n",
              "    </tr>\n",
              "    <tr>\n",
              "      <th>2014-04-12</th>\n",
              "      <td>0.006476</td>\n",
              "      <td>0.0</td>\n",
              "      <td>0.017498</td>\n",
              "      <td>0.053068</td>\n",
              "    </tr>\n",
              "    <tr>\n",
              "      <th>2014-04-13</th>\n",
              "      <td>0.008367</td>\n",
              "      <td>0.0</td>\n",
              "      <td>0.054834</td>\n",
              "      <td>-0.022431</td>\n",
              "    </tr>\n",
              "    <tr>\n",
              "      <th>2014-04-14</th>\n",
              "      <td>0.008970</td>\n",
              "      <td>0.0</td>\n",
              "      <td>0.064609</td>\n",
              "      <td>0.069703</td>\n",
              "    </tr>\n",
              "    <tr>\n",
              "      <th>2014-04-15</th>\n",
              "      <td>0.009459</td>\n",
              "      <td>0.0</td>\n",
              "      <td>0.079167</td>\n",
              "      <td>0.089541</td>\n",
              "    </tr>\n",
              "  </tbody>\n",
              "</table>\n",
              "</div>\n",
              "    <div class=\"colab-df-buttons\">\n",
              "\n",
              "  <div class=\"colab-df-container\">\n",
              "    <button class=\"colab-df-convert\" onclick=\"convertToInteractive('df-20bad19e-e1cc-46dc-be86-e02ded3aa550')\"\n",
              "            title=\"Convert this dataframe to an interactive table.\"\n",
              "            style=\"display:none;\">\n",
              "\n",
              "  <svg xmlns=\"http://www.w3.org/2000/svg\" height=\"24px\" viewBox=\"0 -960 960 960\">\n",
              "    <path d=\"M120-120v-720h720v720H120Zm60-500h600v-160H180v160Zm220 220h160v-160H400v160Zm0 220h160v-160H400v160ZM180-400h160v-160H180v160Zm440 0h160v-160H620v160ZM180-180h160v-160H180v160Zm440 0h160v-160H620v160Z\"/>\n",
              "  </svg>\n",
              "    </button>\n",
              "\n",
              "  <style>\n",
              "    .colab-df-container {\n",
              "      display:flex;\n",
              "      gap: 12px;\n",
              "    }\n",
              "\n",
              "    .colab-df-convert {\n",
              "      background-color: #E8F0FE;\n",
              "      border: none;\n",
              "      border-radius: 50%;\n",
              "      cursor: pointer;\n",
              "      display: none;\n",
              "      fill: #1967D2;\n",
              "      height: 32px;\n",
              "      padding: 0 0 0 0;\n",
              "      width: 32px;\n",
              "    }\n",
              "\n",
              "    .colab-df-convert:hover {\n",
              "      background-color: #E2EBFA;\n",
              "      box-shadow: 0px 1px 2px rgba(60, 64, 67, 0.3), 0px 1px 3px 1px rgba(60, 64, 67, 0.15);\n",
              "      fill: #174EA6;\n",
              "    }\n",
              "\n",
              "    .colab-df-buttons div {\n",
              "      margin-bottom: 4px;\n",
              "    }\n",
              "\n",
              "    [theme=dark] .colab-df-convert {\n",
              "      background-color: #3B4455;\n",
              "      fill: #D2E3FC;\n",
              "    }\n",
              "\n",
              "    [theme=dark] .colab-df-convert:hover {\n",
              "      background-color: #434B5C;\n",
              "      box-shadow: 0px 1px 3px 1px rgba(0, 0, 0, 0.15);\n",
              "      filter: drop-shadow(0px 1px 2px rgba(0, 0, 0, 0.3));\n",
              "      fill: #FFFFFF;\n",
              "    }\n",
              "  </style>\n",
              "\n",
              "    <script>\n",
              "      const buttonEl =\n",
              "        document.querySelector('#df-20bad19e-e1cc-46dc-be86-e02ded3aa550 button.colab-df-convert');\n",
              "      buttonEl.style.display =\n",
              "        google.colab.kernel.accessAllowed ? 'block' : 'none';\n",
              "\n",
              "      async function convertToInteractive(key) {\n",
              "        const element = document.querySelector('#df-20bad19e-e1cc-46dc-be86-e02ded3aa550');\n",
              "        const dataTable =\n",
              "          await google.colab.kernel.invokeFunction('convertToInteractive',\n",
              "                                                    [key], {});\n",
              "        if (!dataTable) return;\n",
              "\n",
              "        const docLinkHtml = 'Like what you see? Visit the ' +\n",
              "          '<a target=\"_blank\" href=https://colab.research.google.com/notebooks/data_table.ipynb>data table notebook</a>'\n",
              "          + ' to learn more about interactive tables.';\n",
              "        element.innerHTML = '';\n",
              "        dataTable['output_type'] = 'display_data';\n",
              "        await google.colab.output.renderOutput(dataTable, element);\n",
              "        const docLink = document.createElement('div');\n",
              "        docLink.innerHTML = docLinkHtml;\n",
              "        element.appendChild(docLink);\n",
              "      }\n",
              "    </script>\n",
              "  </div>\n",
              "\n",
              "\n",
              "<div id=\"df-f7104019-ca76-477c-8878-df9c792d41f0\">\n",
              "  <button class=\"colab-df-quickchart\" onclick=\"quickchart('df-f7104019-ca76-477c-8878-df9c792d41f0')\"\n",
              "            title=\"Suggest charts\"\n",
              "            style=\"display:none;\">\n",
              "\n",
              "<svg xmlns=\"http://www.w3.org/2000/svg\" height=\"24px\"viewBox=\"0 0 24 24\"\n",
              "     width=\"24px\">\n",
              "    <g>\n",
              "        <path d=\"M19 3H5c-1.1 0-2 .9-2 2v14c0 1.1.9 2 2 2h14c1.1 0 2-.9 2-2V5c0-1.1-.9-2-2-2zM9 17H7v-7h2v7zm4 0h-2V7h2v10zm4 0h-2v-4h2v4z\"/>\n",
              "    </g>\n",
              "</svg>\n",
              "  </button>\n",
              "\n",
              "<style>\n",
              "  .colab-df-quickchart {\n",
              "      --bg-color: #E8F0FE;\n",
              "      --fill-color: #1967D2;\n",
              "      --hover-bg-color: #E2EBFA;\n",
              "      --hover-fill-color: #174EA6;\n",
              "      --disabled-fill-color: #AAA;\n",
              "      --disabled-bg-color: #DDD;\n",
              "  }\n",
              "\n",
              "  [theme=dark] .colab-df-quickchart {\n",
              "      --bg-color: #3B4455;\n",
              "      --fill-color: #D2E3FC;\n",
              "      --hover-bg-color: #434B5C;\n",
              "      --hover-fill-color: #FFFFFF;\n",
              "      --disabled-bg-color: #3B4455;\n",
              "      --disabled-fill-color: #666;\n",
              "  }\n",
              "\n",
              "  .colab-df-quickchart {\n",
              "    background-color: var(--bg-color);\n",
              "    border: none;\n",
              "    border-radius: 50%;\n",
              "    cursor: pointer;\n",
              "    display: none;\n",
              "    fill: var(--fill-color);\n",
              "    height: 32px;\n",
              "    padding: 0;\n",
              "    width: 32px;\n",
              "  }\n",
              "\n",
              "  .colab-df-quickchart:hover {\n",
              "    background-color: var(--hover-bg-color);\n",
              "    box-shadow: 0 1px 2px rgba(60, 64, 67, 0.3), 0 1px 3px 1px rgba(60, 64, 67, 0.15);\n",
              "    fill: var(--button-hover-fill-color);\n",
              "  }\n",
              "\n",
              "  .colab-df-quickchart-complete:disabled,\n",
              "  .colab-df-quickchart-complete:disabled:hover {\n",
              "    background-color: var(--disabled-bg-color);\n",
              "    fill: var(--disabled-fill-color);\n",
              "    box-shadow: none;\n",
              "  }\n",
              "\n",
              "  .colab-df-spinner {\n",
              "    border: 2px solid var(--fill-color);\n",
              "    border-color: transparent;\n",
              "    border-bottom-color: var(--fill-color);\n",
              "    animation:\n",
              "      spin 1s steps(1) infinite;\n",
              "  }\n",
              "\n",
              "  @keyframes spin {\n",
              "    0% {\n",
              "      border-color: transparent;\n",
              "      border-bottom-color: var(--fill-color);\n",
              "      border-left-color: var(--fill-color);\n",
              "    }\n",
              "    20% {\n",
              "      border-color: transparent;\n",
              "      border-left-color: var(--fill-color);\n",
              "      border-top-color: var(--fill-color);\n",
              "    }\n",
              "    30% {\n",
              "      border-color: transparent;\n",
              "      border-left-color: var(--fill-color);\n",
              "      border-top-color: var(--fill-color);\n",
              "      border-right-color: var(--fill-color);\n",
              "    }\n",
              "    40% {\n",
              "      border-color: transparent;\n",
              "      border-right-color: var(--fill-color);\n",
              "      border-top-color: var(--fill-color);\n",
              "    }\n",
              "    60% {\n",
              "      border-color: transparent;\n",
              "      border-right-color: var(--fill-color);\n",
              "    }\n",
              "    80% {\n",
              "      border-color: transparent;\n",
              "      border-right-color: var(--fill-color);\n",
              "      border-bottom-color: var(--fill-color);\n",
              "    }\n",
              "    90% {\n",
              "      border-color: transparent;\n",
              "      border-bottom-color: var(--fill-color);\n",
              "    }\n",
              "  }\n",
              "</style>\n",
              "\n",
              "  <script>\n",
              "    async function quickchart(key) {\n",
              "      const quickchartButtonEl =\n",
              "        document.querySelector('#' + key + ' button');\n",
              "      quickchartButtonEl.disabled = true;  // To prevent multiple clicks.\n",
              "      quickchartButtonEl.classList.add('colab-df-spinner');\n",
              "      try {\n",
              "        const charts = await google.colab.kernel.invokeFunction(\n",
              "            'suggestCharts', [key], {});\n",
              "      } catch (error) {\n",
              "        console.error('Error during call to suggestCharts:', error);\n",
              "      }\n",
              "      quickchartButtonEl.classList.remove('colab-df-spinner');\n",
              "      quickchartButtonEl.classList.add('colab-df-quickchart-complete');\n",
              "    }\n",
              "    (() => {\n",
              "      let quickchartButtonEl =\n",
              "        document.querySelector('#df-f7104019-ca76-477c-8878-df9c792d41f0 button');\n",
              "      quickchartButtonEl.style.display =\n",
              "        google.colab.kernel.accessAllowed ? 'block' : 'none';\n",
              "    })();\n",
              "  </script>\n",
              "</div>\n",
              "    </div>\n",
              "  </div>\n"
            ]
          },
          "metadata": {},
          "execution_count": 20
        }
      ]
    },
    {
      "cell_type": "markdown",
      "source": [
        "# Train Validation Test Split"
      ],
      "metadata": {
        "id": "zCHohYHnHdbr"
      }
    },
    {
      "cell_type": "code",
      "source": [
        "bitcoinFeaturesArray = np.array(bitcoinFeatures)\n",
        "bitcoinLogReturnArray = np.array(bitcoinLogReturn)\n",
        "\n",
        "trainFeatures = bitcoinFeaturesArray[:-8]\n",
        "trainTargets = bitcoinLogReturnArray[1:-8 + 1]\n",
        "\n",
        "testFeatures = bitcoinFeaturesArray[-8:-1]\n",
        "testTargets = bitcoinLogReturnArray[-8 + 1:]\n",
        "\n",
        "validSplitIndex = round(len(trainFeatures) * 0.8)\n",
        "\n",
        "validFeatures = trainFeatures[validSplitIndex:-1]\n",
        "validTargets = trainTargets[validSplitIndex + 1:]\n",
        "\n",
        "trainFeatures = bitcoinFeaturesArray[:validSplitIndex]\n",
        "trainTargets = bitcoinLogReturnArray[1:validSplitIndex + 1]\n",
        "\n",
        "print(trainFeatures.shape)\n",
        "print(trainTargets.shape)\n",
        "print(validFeatures.shape)\n",
        "print(validTargets.shape)\n",
        "print(testFeatures.shape)\n",
        "print(testTargets.shape)"
      ],
      "metadata": {
        "id": "HyIW3SGbLsH3",
        "colab": {
          "base_uri": "https://localhost:8080/"
        },
        "outputId": "b7d67e30-f8ea-4ed3-c161-e65e8c8b299c"
      },
      "execution_count": null,
      "outputs": [
        {
          "output_type": "stream",
          "name": "stdout",
          "text": [
            "(2119, 4)\n",
            "(2119,)\n",
            "(529, 4)\n",
            "(529,)\n",
            "(7, 4)\n",
            "(7,)\n"
          ]
        }
      ]
    },
    {
      "cell_type": "markdown",
      "source": [
        "# Set Hyperparameters"
      ],
      "metadata": {
        "id": "1iUhBpcSd87-"
      }
    },
    {
      "cell_type": "code",
      "source": [
        "# Set the hyperparameters\n",
        "inputSize = bitcoinFeatures.shape[1]     # Number of features in the input (multivariate time series)\n",
        "hiddenSize = 8     # Number of hidden units in the LSTM\n",
        "LSTMLayers = 1      # Number of LSTM layers\n",
        "outputSize = 1\n",
        "numEpochs = 200\n",
        "learningRate = 0.01\n",
        "trainBatchSize = 64\n",
        "testBatchSize = 32\n",
        "\n",
        "DEVICE = torch.device(\"cuda:0\" if torch.cuda.is_available() else \"cpu\")"
      ],
      "metadata": {
        "id": "-TwhrL6vJMQG"
      },
      "execution_count": null,
      "outputs": []
    },
    {
      "cell_type": "markdown",
      "source": [
        "# Try vanilla MLP"
      ],
      "metadata": {
        "id": "741jAK5fIRmw"
      }
    },
    {
      "cell_type": "code",
      "source": [
        "mlp = mlpregressor(hidden_layer_sizes = (64),\n",
        "                   max_iter = 500,\n",
        "                   activation = 'relu',\n",
        "                   batch_size = 64,\n",
        "                   shuffle = False)\n",
        "\n",
        "mlp = mlp.fit(trainFeatures, trainTargets)"
      ],
      "metadata": {
        "id": "_5rOA8eQIT_Z"
      },
      "execution_count": null,
      "outputs": []
    },
    {
      "cell_type": "code",
      "source": [
        "pred = mlp.predict(testFeatures)\n",
        "pred"
      ],
      "metadata": {
        "colab": {
          "base_uri": "https://localhost:8080/"
        },
        "id": "jMVnfAf2WFUV",
        "outputId": "54176d4a-3cda-48e2-fc63-4428ac665123"
      },
      "execution_count": null,
      "outputs": [
        {
          "output_type": "execute_result",
          "data": {
            "text/plain": [
              "array([5.85086984e-03, 9.31528909e-05, 3.70497138e-03, 3.70116473e-03,\n",
              "       3.05472283e-03, 4.51269337e-03, 6.57729482e-03])"
            ]
          },
          "metadata": {},
          "execution_count": 24
        }
      ]
    },
    {
      "cell_type": "code",
      "source": [
        "np.sqrt(mean_squared_error(testTargets, pred))"
      ],
      "metadata": {
        "colab": {
          "base_uri": "https://localhost:8080/"
        },
        "id": "ZWkMksa4WN5m",
        "outputId": "b71be002-7fdd-430e-eb9c-72a85721014a"
      },
      "execution_count": null,
      "outputs": [
        {
          "output_type": "execute_result",
          "data": {
            "text/plain": [
              "0.022685194906647718"
            ]
          },
          "metadata": {},
          "execution_count": 25
        }
      ]
    },
    {
      "cell_type": "markdown",
      "source": [
        "#Send Data to GPU"
      ],
      "metadata": {
        "id": "qBrM7jDIB8kK"
      }
    },
    {
      "cell_type": "code",
      "source": [
        "# Convert features and targets to PyTorch tensors for each\n",
        "trainFeatures = torch.tensor(trainFeatures, dtype = torch.float, device = DEVICE).unsqueeze(1)\n",
        "trainTargets = torch.tensor(trainTargets, dtype = torch.float, device = DEVICE).unsqueeze(1)\n",
        "\n",
        "validFeatures = torch.tensor(validFeatures, dtype = torch.float, device = DEVICE).unsqueeze(1)\n",
        "validTargets = torch.tensor(validTargets, dtype = torch.float, device = DEVICE).unsqueeze(1)\n",
        "\n",
        "testFeatures = torch.tensor(testFeatures, dtype = torch.float, device = DEVICE).unsqueeze(1)\n",
        "testTargets = torch.tensor(testTargets, dtype = torch.float, device = DEVICE).unsqueeze(1)"
      ],
      "metadata": {
        "id": "9zc_cOQ8HbBM"
      },
      "execution_count": null,
      "outputs": []
    },
    {
      "cell_type": "code",
      "source": [
        "# Create a DataLoader for each\n",
        "trainDataset = TensorDataset(trainFeatures, trainTargets)\n",
        "train_loader = DataLoader(trainDataset, batch_size = trainBatchSize, shuffle = True)\n",
        "\n",
        "validDataset = TensorDataset(validFeatures, validTargets)\n",
        "valid_loader = DataLoader(validDataset, batch_size = trainBatchSize, shuffle = True)\n",
        "\n",
        "testDataset = TensorDataset(testFeatures, testTargets)\n",
        "test_loader = DataLoader(testDataset, batch_size = testBatchSize, shuffle = False)"
      ],
      "metadata": {
        "id": "uZxHiP4_BuvF"
      },
      "execution_count": null,
      "outputs": []
    },
    {
      "cell_type": "markdown",
      "source": [
        "# LSTM functions"
      ],
      "metadata": {
        "id": "_R-f7v_GbufE"
      }
    },
    {
      "cell_type": "code",
      "source": [
        "# Define the multivariate LSTM model for time series forecasting\n",
        "class LSTMTimeSeries(nn.Module):\n",
        "  def __init__(self, input_size, hidden_size, num_layers, output_size):\n",
        "    super(LSTMTimeSeries, self).__init__()\n",
        "\n",
        "    # Define the LSTM layer\n",
        "    self.lstm = nn.LSTM(input_size, hidden_size, num_layers, batch_first = True, bidirectional = False)\n",
        "\n",
        "    # Define the output layer\n",
        "    self.fc = nn.Linear(hidden_size, output_size)\n",
        "\n",
        "  def forward(self, x):\n",
        "    out, (hn, cn) = self.lstm(x)\n",
        "\n",
        "    # Index into the final time step output\n",
        "    out = out[:, -1, :]\n",
        "\n",
        "    out = self.fc(out)\n",
        "\n",
        "    return out"
      ],
      "metadata": {
        "id": "bF5YlNW5bvpe"
      },
      "execution_count": null,
      "outputs": []
    },
    {
      "cell_type": "code",
      "source": [
        "# Train 1 epoch function\n",
        "def train_one_epoch(train_loader, model, device, optimizer):\n",
        "\n",
        "    model.train()\n",
        "    trainLoss = 0\n",
        "\n",
        "    for sequences, targets in train_loader:\n",
        "\n",
        "      # Forward pass\n",
        "      outputs = model(sequences)#.reshape(-1)\n",
        "      trainLoss = torch.sqrt(criterion(outputs, targets))\n",
        "\n",
        "      # Backpropagation and optimization\n",
        "      optimizer.zero_grad()\n",
        "      trainLoss.backward()\n",
        "      optimizer.step()\n",
        "\n",
        "    return float(trainLoss.detach().cpu().numpy())"
      ],
      "metadata": {
        "id": "mzH3OPu6CNdG"
      },
      "execution_count": null,
      "outputs": []
    },
    {
      "cell_type": "code",
      "source": [
        "# Test 1 epoch function\n",
        "def test_one_epoch(test_loader, model, device):\n",
        "\n",
        "  model.eval()\n",
        "  testLoss = 0\n",
        "\n",
        "  with torch.no_grad():\n",
        "\n",
        "    for sequences, targets in test_loader:\n",
        "\n",
        "      # predict with model\n",
        "      outputs = model(sequences)#.reshape(-1)\n",
        "      testLoss = torch.sqrt(criterion(outputs, targets))\n",
        "\n",
        "  return float(testLoss.detach().cpu().numpy())"
      ],
      "metadata": {
        "id": "Tbn4w6iC7xCH"
      },
      "execution_count": null,
      "outputs": []
    },
    {
      "cell_type": "markdown",
      "source": [
        "#Instantiate Model and Parameters"
      ],
      "metadata": {
        "id": "ds3ds79eUTVz"
      }
    },
    {
      "cell_type": "code",
      "source": [
        "# Create the model\n",
        "LSTMModel = LSTMTimeSeries(inputSize, hiddenSize, LSTMLayers, outputSize).to(DEVICE)\n",
        "\n",
        "# Define the loss function and optimizer\n",
        "criterion = nn.MSELoss()\n",
        "optimizer = torch.optim.Adam(LSTMModel.parameters(), lr = learningRate)\n",
        "\n",
        "print(LSTMModel)\n",
        "print(\"Trainable Parameters:\", sum(p.numel() for p in LSTMModel.parameters() if p.requires_grad))"
      ],
      "metadata": {
        "colab": {
          "base_uri": "https://localhost:8080/"
        },
        "id": "zCCrgvvQIAa5",
        "outputId": "bc11f80c-08ec-43bd-e42e-45df0d4f149f"
      },
      "execution_count": null,
      "outputs": [
        {
          "output_type": "stream",
          "name": "stdout",
          "text": [
            "LSTMTimeSeries(\n",
            "  (lstm): LSTM(4, 8, batch_first=True)\n",
            "  (fc): Linear(in_features=8, out_features=1, bias=True)\n",
            ")\n",
            "Trainable Parameters: 457\n"
          ]
        }
      ]
    },
    {
      "cell_type": "markdown",
      "source": [
        "#Train LSTM"
      ],
      "metadata": {
        "id": "M7Z2uJS2UVd1"
      }
    },
    {
      "cell_type": "code",
      "source": [
        "train_losses = []\n",
        "val_losses = []\n",
        "\n",
        "for epoch in trange(numEpochs, leave = True, desc = 'Epochs'):\n",
        "\n",
        "  train_epoch = train_one_epoch(train_loader, LSTMModel, DEVICE, optimizer)\n",
        "  train_loss = train_epoch\n",
        "  print(\"\\nTrain Loss \", epoch, \"RMSE: \", train_loss)\n",
        "\n",
        "  val_epoch = test_one_epoch(valid_loader, LSTMModel, DEVICE)\n",
        "  val_loss = val_epoch\n",
        "  print(\"Validation Loss \", epoch, \"RMSE: \", val_loss)\n",
        "\n",
        "  # Record results\n",
        "  train_losses.append(train_loss)\n",
        "  val_losses.append(val_loss)"
      ],
      "metadata": {
        "id": "TnWwYDh9707U",
        "colab": {
          "base_uri": "https://localhost:8080/",
          "height": 1000
        },
        "outputId": "d5577b51-b0e9-421c-e29f-6e21bed302cc"
      },
      "execution_count": null,
      "outputs": [
        {
          "output_type": "stream",
          "name": "stderr",
          "text": [
            "Epochs:   1%|          | 2/200 [00:00<00:17, 11.40it/s]"
          ]
        },
        {
          "output_type": "stream",
          "name": "stdout",
          "text": [
            "\n",
            "Train Loss  0 RMSE:  0.019541852176189423\n",
            "Validation Loss  0 RMSE:  0.027955008670687675\n",
            "\n",
            "Train Loss  1 RMSE:  0.017169099301099777\n",
            "Validation Loss  1 RMSE:  0.02366703934967518\n",
            "\n",
            "Train Loss  2 RMSE:  0.02379676327109337\n",
            "Validation Loss  2 RMSE:  0.04572915658354759\n"
          ]
        },
        {
          "output_type": "stream",
          "name": "stderr",
          "text": [
            "\rEpochs:   2%|▏         | 4/200 [00:00<00:16, 11.60it/s]"
          ]
        },
        {
          "output_type": "stream",
          "name": "stdout",
          "text": [
            "\n",
            "Train Loss  3 RMSE:  0.018120238557457924\n",
            "Validation Loss  3 RMSE:  0.019607773050665855\n",
            "\n",
            "Train Loss  4 RMSE:  0.024230802431702614\n",
            "Validation Loss  4 RMSE:  0.030455725267529488\n",
            "\n",
            "Train Loss  5 RMSE:  0.02404555305838585\n"
          ]
        },
        {
          "output_type": "stream",
          "name": "stderr",
          "text": [
            "Epochs:   4%|▍         | 8/200 [00:00<00:17, 10.89it/s]"
          ]
        },
        {
          "output_type": "stream",
          "name": "stdout",
          "text": [
            "Validation Loss  5 RMSE:  0.06348098069429398\n",
            "\n",
            "Train Loss  6 RMSE:  0.04147619009017944\n",
            "Validation Loss  6 RMSE:  0.039916954934597015\n",
            "\n",
            "Train Loss  7 RMSE:  0.03061285987496376\n",
            "Validation Loss  7 RMSE:  0.030571792274713516\n"
          ]
        },
        {
          "output_type": "stream",
          "name": "stderr",
          "text": [
            "\rEpochs:   5%|▌         | 10/200 [00:00<00:17, 10.73it/s]"
          ]
        },
        {
          "output_type": "stream",
          "name": "stdout",
          "text": [
            "\n",
            "Train Loss  8 RMSE:  0.015560072846710682\n",
            "Validation Loss  8 RMSE:  0.031623475253582\n",
            "\n",
            "Train Loss  9 RMSE:  0.018448371440172195\n",
            "Validation Loss  9 RMSE:  0.02382700890302658\n",
            "\n",
            "Train Loss  10 RMSE:  0.025857137516140938\n"
          ]
        },
        {
          "output_type": "stream",
          "name": "stderr",
          "text": [
            "\rEpochs:   6%|▌         | 12/200 [00:01<00:17, 10.70it/s]"
          ]
        },
        {
          "output_type": "stream",
          "name": "stdout",
          "text": [
            "Validation Loss  10 RMSE:  0.02844827249646187\n",
            "\n",
            "Train Loss  11 RMSE:  0.03541441634297371\n",
            "Validation Loss  11 RMSE:  0.034690357744693756\n",
            "\n",
            "Train Loss  12 RMSE:  0.0394928976893425\n",
            "Validation Loss  12 RMSE:  0.06348639726638794\n"
          ]
        },
        {
          "output_type": "stream",
          "name": "stderr",
          "text": [
            "Epochs:   8%|▊         | 16/200 [00:01<00:16, 10.96it/s]"
          ]
        },
        {
          "output_type": "stream",
          "name": "stdout",
          "text": [
            "\n",
            "Train Loss  13 RMSE:  0.02863747999072075\n",
            "Validation Loss  13 RMSE:  0.027620181441307068\n",
            "\n",
            "Train Loss  14 RMSE:  0.016430217772722244\n",
            "Validation Loss  14 RMSE:  0.03480159491300583\n",
            "\n",
            "Train Loss  15 RMSE:  0.022408168762922287\n",
            "Validation Loss  15 RMSE:  0.05671369656920433\n"
          ]
        },
        {
          "output_type": "stream",
          "name": "stderr",
          "text": [
            "\rEpochs:   9%|▉         | 18/200 [00:01<00:16, 10.87it/s]"
          ]
        },
        {
          "output_type": "stream",
          "name": "stdout",
          "text": [
            "\n",
            "Train Loss  16 RMSE:  0.04224814102053642\n",
            "Validation Loss  16 RMSE:  0.023173216730356216\n",
            "\n",
            "Train Loss  17 RMSE:  0.023010870441794395\n",
            "Validation Loss  17 RMSE:  0.02368045784533024\n",
            "\n",
            "Train Loss  18 RMSE:  0.03289415314793587\n",
            "Validation Loss  18 RMSE:  0.03253887593746185\n"
          ]
        },
        {
          "output_type": "stream",
          "name": "stderr",
          "text": [
            "Epochs:  11%|█         | 22/200 [00:02<00:16, 10.96it/s]"
          ]
        },
        {
          "output_type": "stream",
          "name": "stdout",
          "text": [
            "\n",
            "Train Loss  19 RMSE:  0.018696023151278496\n",
            "Validation Loss  19 RMSE:  0.03578738123178482\n",
            "\n",
            "Train Loss  20 RMSE:  0.021193139255046844\n",
            "Validation Loss  20 RMSE:  0.06371331959962845\n",
            "\n",
            "Train Loss  21 RMSE:  0.03200315684080124\n",
            "Validation Loss  21 RMSE:  0.03901727870106697\n"
          ]
        },
        {
          "output_type": "stream",
          "name": "stderr",
          "text": [
            "\rEpochs:  12%|█▏        | 24/200 [00:02<00:16, 11.00it/s]"
          ]
        },
        {
          "output_type": "stream",
          "name": "stdout",
          "text": [
            "\n",
            "Train Loss  22 RMSE:  0.018873855471611023\n",
            "Validation Loss  22 RMSE:  0.035270679742097855\n",
            "\n",
            "Train Loss  23 RMSE:  0.021737009286880493\n",
            "Validation Loss  23 RMSE:  0.03976735845208168\n",
            "\n",
            "Train Loss  24 RMSE:  0.01904088631272316\n",
            "Validation Loss  24 RMSE:  0.012750055640935898\n"
          ]
        },
        {
          "output_type": "stream",
          "name": "stderr",
          "text": [
            "\rEpochs:  13%|█▎        | 26/200 [00:02<00:15, 11.14it/s]"
          ]
        },
        {
          "output_type": "stream",
          "name": "stdout",
          "text": [
            "\n",
            "Train Loss  25 RMSE:  0.03154424950480461\n",
            "Validation Loss  25 RMSE:  0.04729409143328667\n",
            "\n",
            "Train Loss  26 RMSE:  0.022975532338023186\n",
            "Validation Loss  26 RMSE:  0.031046345829963684\n",
            "\n",
            "Train Loss  27 RMSE:  0.018543265759944916\n",
            "Validation Loss "
          ]
        },
        {
          "output_type": "stream",
          "name": "stderr",
          "text": [
            "\rEpochs:  14%|█▍        | 28/200 [00:02<00:15, 10.86it/s]"
          ]
        },
        {
          "output_type": "stream",
          "name": "stdout",
          "text": [
            " 27 RMSE:  0.027991805225610733\n",
            "\n",
            "Train Loss  28 RMSE:  0.013920621946454048\n",
            "Validation Loss  28 RMSE:  0.03720119595527649\n"
          ]
        },
        {
          "output_type": "stream",
          "name": "stderr",
          "text": [
            "\rEpochs:  15%|█▌        | 30/200 [00:02<00:17,  9.97it/s]"
          ]
        },
        {
          "output_type": "stream",
          "name": "stdout",
          "text": [
            "\n",
            "Train Loss  29 RMSE:  0.026086075231432915\n",
            "Validation Loss  29 RMSE:  0.0265743900090456\n",
            "\n",
            "Train Loss  30 RMSE:  0.00977377686649561\n",
            "Validation Loss  30 RMSE:  0.032801661640405655\n"
          ]
        },
        {
          "output_type": "stream",
          "name": "stderr",
          "text": [
            "Epochs:  16%|█▋        | 33/200 [00:03<00:18,  9.15it/s]"
          ]
        },
        {
          "output_type": "stream",
          "name": "stdout",
          "text": [
            "\n",
            "Train Loss  31 RMSE:  0.008815309032797813\n",
            "Validation Loss  31 RMSE:  0.03230803832411766\n",
            "\n",
            "Train Loss  32 RMSE:  0.03792733699083328\n",
            "Validation Loss  32 RMSE:  0.04410691186785698\n"
          ]
        },
        {
          "output_type": "stream",
          "name": "stderr",
          "text": [
            "Epochs:  18%|█▊        | 35/200 [00:03<00:18,  9.00it/s]"
          ]
        },
        {
          "output_type": "stream",
          "name": "stdout",
          "text": [
            "\n",
            "Train Loss  33 RMSE:  0.02481786347925663\n",
            "Validation Loss  33 RMSE:  0.03707379475235939\n",
            "\n",
            "Train Loss  34 RMSE:  0.013530440628528595\n",
            "Validation Loss  34 RMSE:  0.02515706792473793\n"
          ]
        },
        {
          "output_type": "stream",
          "name": "stderr",
          "text": [
            "Epochs:  18%|█▊        | 37/200 [00:03<00:18,  8.59it/s]"
          ]
        },
        {
          "output_type": "stream",
          "name": "stdout",
          "text": [
            "\n",
            "Train Loss  35 RMSE:  0.04291243851184845\n",
            "Validation Loss  35 RMSE:  0.04210418462753296\n",
            "\n",
            "Train Loss  36 RMSE:  0.03638726472854614\n",
            "Validation Loss  36 RMSE:  0.04554501175880432\n"
          ]
        },
        {
          "output_type": "stream",
          "name": "stderr",
          "text": [
            "Epochs:  20%|█▉        | 39/200 [00:03<00:18,  8.53it/s]"
          ]
        },
        {
          "output_type": "stream",
          "name": "stdout",
          "text": [
            "\n",
            "Train Loss  37 RMSE:  0.01645348034799099\n",
            "Validation Loss  37 RMSE:  0.031182823702692986\n",
            "\n",
            "Train Loss  38 RMSE:  0.029165636748075485\n",
            "Validation Loss  38 RMSE:  0.030051682144403458\n"
          ]
        },
        {
          "output_type": "stream",
          "name": "stderr",
          "text": [
            "Epochs:  20%|██        | 41/200 [00:04<00:18,  8.40it/s]"
          ]
        },
        {
          "output_type": "stream",
          "name": "stdout",
          "text": [
            "\n",
            "Train Loss  39 RMSE:  0.0188762117177248\n",
            "Validation Loss  39 RMSE:  0.030248206108808517\n",
            "\n",
            "Train Loss  40 RMSE:  0.03334430605173111\n",
            "Validation Loss  40 RMSE:  0.03573895990848541\n"
          ]
        },
        {
          "output_type": "stream",
          "name": "stderr",
          "text": [
            "Epochs:  22%|██▏       | 43/200 [00:04<00:19,  8.12it/s]"
          ]
        },
        {
          "output_type": "stream",
          "name": "stdout",
          "text": [
            "\n",
            "Train Loss  41 RMSE:  0.019207267090678215\n",
            "Validation Loss  41 RMSE:  0.03513554111123085\n",
            "\n",
            "Train Loss  42 RMSE:  0.03496432304382324\n",
            "Validation Loss  42 RMSE:  0.038987163454294205\n"
          ]
        },
        {
          "output_type": "stream",
          "name": "stderr",
          "text": [
            "Epochs:  22%|██▎       | 45/200 [00:04<00:18,  8.21it/s]"
          ]
        },
        {
          "output_type": "stream",
          "name": "stdout",
          "text": [
            "\n",
            "Train Loss  43 RMSE:  0.05146012455224991\n",
            "Validation Loss  43 RMSE:  0.02817702479660511\n",
            "\n",
            "Train Loss  44 RMSE:  0.017193954437971115\n",
            "Validation Loss  44 RMSE:  0.025712504982948303\n"
          ]
        },
        {
          "output_type": "stream",
          "name": "stderr",
          "text": [
            "Epochs:  24%|██▎       | 47/200 [00:04<00:18,  8.20it/s]"
          ]
        },
        {
          "output_type": "stream",
          "name": "stdout",
          "text": [
            "\n",
            "Train Loss  45 RMSE:  0.04167117923498154\n",
            "Validation Loss  45 RMSE:  0.03635795786976814\n",
            "\n",
            "Train Loss  46 RMSE:  0.04059608280658722\n",
            "Validation Loss  46 RMSE:  0.02476675994694233\n"
          ]
        },
        {
          "output_type": "stream",
          "name": "stderr",
          "text": [
            "Epochs:  24%|██▍       | 49/200 [00:05<00:18,  8.04it/s]"
          ]
        },
        {
          "output_type": "stream",
          "name": "stdout",
          "text": [
            "\n",
            "Train Loss  47 RMSE:  0.03152824565768242\n",
            "Validation Loss  47 RMSE:  0.03740212693810463\n",
            "\n",
            "Train Loss  48 RMSE:  0.014213567599654198\n",
            "Validation Loss  48 RMSE:  0.06905034929513931\n"
          ]
        },
        {
          "output_type": "stream",
          "name": "stderr",
          "text": [
            "Epochs:  26%|██▌       | 51/200 [00:05<00:18,  8.14it/s]"
          ]
        },
        {
          "output_type": "stream",
          "name": "stdout",
          "text": [
            "\n",
            "Train Loss  49 RMSE:  0.01729252189397812\n",
            "Validation Loss  49 RMSE:  0.027617482468485832\n",
            "\n",
            "Train Loss  50 RMSE:  0.01856723614037037\n",
            "Validation Loss  50 RMSE:  0.028542961925268173\n"
          ]
        },
        {
          "output_type": "stream",
          "name": "stderr",
          "text": [
            "Epochs:  26%|██▋       | 53/200 [00:05<00:17,  8.26it/s]"
          ]
        },
        {
          "output_type": "stream",
          "name": "stdout",
          "text": [
            "\n",
            "Train Loss  51 RMSE:  0.04381410777568817\n",
            "Validation Loss  51 RMSE:  0.038983218371868134\n",
            "\n",
            "Train Loss  52 RMSE:  0.01745019108057022\n",
            "Validation Loss  52 RMSE:  0.03379791975021362\n"
          ]
        },
        {
          "output_type": "stream",
          "name": "stderr",
          "text": [
            "Epochs:  28%|██▊       | 55/200 [00:05<00:17,  8.39it/s]"
          ]
        },
        {
          "output_type": "stream",
          "name": "stdout",
          "text": [
            "\n",
            "Train Loss  53 RMSE:  0.011491728946566582\n",
            "Validation Loss  53 RMSE:  0.02356407791376114\n",
            "\n",
            "Train Loss  54 RMSE:  0.010972145944833755\n",
            "Validation Loss  54 RMSE:  0.017214851453900337\n"
          ]
        },
        {
          "output_type": "stream",
          "name": "stderr",
          "text": [
            "Epochs:  28%|██▊       | 57/200 [00:06<00:17,  8.40it/s]"
          ]
        },
        {
          "output_type": "stream",
          "name": "stdout",
          "text": [
            "\n",
            "Train Loss  55 RMSE:  0.019038591533899307\n",
            "Validation Loss  55 RMSE:  0.04395851120352745\n",
            "\n",
            "Train Loss  56 RMSE:  0.0519038662314415\n",
            "Validation Loss  56 RMSE:  0.021922463551163673\n"
          ]
        },
        {
          "output_type": "stream",
          "name": "stderr",
          "text": [
            "Epochs:  30%|██▉       | 59/200 [00:06<00:16,  8.66it/s]"
          ]
        },
        {
          "output_type": "stream",
          "name": "stdout",
          "text": [
            "\n",
            "Train Loss  57 RMSE:  0.019173968583345413\n",
            "Validation Loss  57 RMSE:  0.035772696137428284\n",
            "\n",
            "Train Loss  58 RMSE:  0.018501685932278633\n",
            "Validation Loss  58 RMSE:  0.015568193979561329\n"
          ]
        },
        {
          "output_type": "stream",
          "name": "stderr",
          "text": [
            "Epochs:  30%|███       | 61/200 [00:06<00:16,  8.52it/s]"
          ]
        },
        {
          "output_type": "stream",
          "name": "stdout",
          "text": [
            "\n",
            "Train Loss  59 RMSE:  0.010395902208983898\n",
            "Validation Loss  59 RMSE:  0.04015828296542168\n",
            "\n",
            "Train Loss  60 RMSE:  0.03321464732289314\n",
            "Validation Loss  60 RMSE:  0.026234466582536697\n"
          ]
        },
        {
          "output_type": "stream",
          "name": "stderr",
          "text": [
            "Epochs:  32%|███▏      | 63/200 [00:06<00:16,  8.29it/s]"
          ]
        },
        {
          "output_type": "stream",
          "name": "stdout",
          "text": [
            "\n",
            "Train Loss  61 RMSE:  0.03345527499914169\n",
            "Validation Loss  61 RMSE:  0.02615995518863201\n",
            "\n",
            "Train Loss  62 RMSE:  0.01793311908841133\n",
            "Validation Loss  62 RMSE:  0.026784339919686317\n"
          ]
        },
        {
          "output_type": "stream",
          "name": "stderr",
          "text": [
            "Epochs:  32%|███▎      | 65/200 [00:07<00:16,  8.35it/s]"
          ]
        },
        {
          "output_type": "stream",
          "name": "stdout",
          "text": [
            "\n",
            "Train Loss  63 RMSE:  0.022371169179677963\n",
            "Validation Loss  63 RMSE:  0.022925101220607758\n",
            "\n",
            "Train Loss  64 RMSE:  0.01906832680106163\n",
            "Validation Loss  64 RMSE:  0.03171292319893837\n"
          ]
        },
        {
          "output_type": "stream",
          "name": "stderr",
          "text": [
            "Epochs:  34%|███▎      | 67/200 [00:07<00:15,  8.53it/s]"
          ]
        },
        {
          "output_type": "stream",
          "name": "stdout",
          "text": [
            "\n",
            "Train Loss  65 RMSE:  0.04427046701312065\n",
            "Validation Loss  65 RMSE:  0.02910308726131916\n",
            "\n",
            "Train Loss  66 RMSE:  0.02425847388803959\n",
            "Validation Loss  66 RMSE:  0.034463897347450256\n"
          ]
        },
        {
          "output_type": "stream",
          "name": "stderr",
          "text": [
            "Epochs:  34%|███▍      | 69/200 [00:07<00:15,  8.58it/s]"
          ]
        },
        {
          "output_type": "stream",
          "name": "stdout",
          "text": [
            "\n",
            "Train Loss  67 RMSE:  0.03224104642868042\n",
            "Validation Loss  67 RMSE:  0.04510875418782234\n",
            "\n",
            "Train Loss  68 RMSE:  0.014108284376561642\n",
            "Validation Loss  68 RMSE:  0.043249912559986115\n"
          ]
        },
        {
          "output_type": "stream",
          "name": "stderr",
          "text": [
            "Epochs:  36%|███▌      | 71/200 [00:07<00:15,  8.30it/s]"
          ]
        },
        {
          "output_type": "stream",
          "name": "stdout",
          "text": [
            "\n",
            "Train Loss  69 RMSE:  0.0405271090567112\n",
            "Validation Loss  69 RMSE:  0.03382551670074463\n",
            "\n",
            "Train Loss  70 RMSE:  0.027649909257888794\n",
            "Validation Loss  70 RMSE:  0.06436502933502197\n"
          ]
        },
        {
          "output_type": "stream",
          "name": "stderr",
          "text": [
            "Epochs:  36%|███▋      | 73/200 [00:07<00:15,  8.44it/s]"
          ]
        },
        {
          "output_type": "stream",
          "name": "stdout",
          "text": [
            "\n",
            "Train Loss  71 RMSE:  0.014523988589644432\n",
            "Validation Loss  71 RMSE:  0.028716176748275757\n",
            "\n",
            "Train Loss  72 RMSE:  0.028657834976911545\n",
            "Validation Loss  72 RMSE:  0.03805215284228325\n"
          ]
        },
        {
          "output_type": "stream",
          "name": "stderr",
          "text": [
            "Epochs:  38%|███▊      | 75/200 [00:08<00:14,  8.36it/s]"
          ]
        },
        {
          "output_type": "stream",
          "name": "stdout",
          "text": [
            "\n",
            "Train Loss  73 RMSE:  0.014893611893057823\n",
            "Validation Loss  73 RMSE:  0.038721714168787\n",
            "\n",
            "Train Loss  74 RMSE:  0.010824966244399548\n",
            "Validation Loss  74 RMSE:  0.03141118586063385\n"
          ]
        },
        {
          "output_type": "stream",
          "name": "stderr",
          "text": [
            "\rEpochs:  38%|███▊      | 75/200 [00:08<00:13,  9.03it/s]"
          ]
        },
        {
          "output_type": "stream",
          "name": "stdout",
          "text": [
            "\n",
            "Train Loss  75 RMSE:  0.034434109926223755\n"
          ]
        },
        {
          "output_type": "stream",
          "name": "stderr",
          "text": [
            "\n"
          ]
        },
        {
          "output_type": "error",
          "ename": "KeyboardInterrupt",
          "evalue": "ignored",
          "traceback": [
            "\u001b[0;31m---------------------------------------------------------------------------\u001b[0m",
            "\u001b[0;31mKeyboardInterrupt\u001b[0m                         Traceback (most recent call last)",
            "\u001b[0;32m<ipython-input-32-4901f8106a2b>\u001b[0m in \u001b[0;36m<cell line: 4>\u001b[0;34m()\u001b[0m\n\u001b[1;32m      8\u001b[0m   \u001b[0mprint\u001b[0m\u001b[0;34m(\u001b[0m\u001b[0;34m\"\\nTrain Loss \"\u001b[0m\u001b[0;34m,\u001b[0m \u001b[0mepoch\u001b[0m\u001b[0;34m,\u001b[0m \u001b[0;34m\"RMSE: \"\u001b[0m\u001b[0;34m,\u001b[0m \u001b[0mtrain_loss\u001b[0m\u001b[0;34m)\u001b[0m\u001b[0;34m\u001b[0m\u001b[0;34m\u001b[0m\u001b[0m\n\u001b[1;32m      9\u001b[0m \u001b[0;34m\u001b[0m\u001b[0m\n\u001b[0;32m---> 10\u001b[0;31m   \u001b[0mval_epoch\u001b[0m \u001b[0;34m=\u001b[0m \u001b[0mtest_one_epoch\u001b[0m\u001b[0;34m(\u001b[0m\u001b[0mvalid_loader\u001b[0m\u001b[0;34m,\u001b[0m \u001b[0mLSTMModel\u001b[0m\u001b[0;34m,\u001b[0m \u001b[0mDEVICE\u001b[0m\u001b[0;34m)\u001b[0m\u001b[0;34m\u001b[0m\u001b[0;34m\u001b[0m\u001b[0m\n\u001b[0m\u001b[1;32m     11\u001b[0m   \u001b[0mval_loss\u001b[0m \u001b[0;34m=\u001b[0m \u001b[0mval_epoch\u001b[0m\u001b[0;34m\u001b[0m\u001b[0;34m\u001b[0m\u001b[0m\n\u001b[1;32m     12\u001b[0m   \u001b[0mprint\u001b[0m\u001b[0;34m(\u001b[0m\u001b[0;34m\"Validation Loss \"\u001b[0m\u001b[0;34m,\u001b[0m \u001b[0mepoch\u001b[0m\u001b[0;34m,\u001b[0m \u001b[0;34m\"RMSE: \"\u001b[0m\u001b[0;34m,\u001b[0m \u001b[0mval_loss\u001b[0m\u001b[0;34m)\u001b[0m\u001b[0;34m\u001b[0m\u001b[0;34m\u001b[0m\u001b[0m\n",
            "\u001b[0;32m<ipython-input-30-a48f9dd5c9d5>\u001b[0m in \u001b[0;36mtest_one_epoch\u001b[0;34m(test_loader, model, device)\u001b[0m\n\u001b[1;32m      7\u001b[0m   \u001b[0;32mwith\u001b[0m \u001b[0mtorch\u001b[0m\u001b[0;34m.\u001b[0m\u001b[0mno_grad\u001b[0m\u001b[0;34m(\u001b[0m\u001b[0;34m)\u001b[0m\u001b[0;34m:\u001b[0m\u001b[0;34m\u001b[0m\u001b[0;34m\u001b[0m\u001b[0m\n\u001b[1;32m      8\u001b[0m \u001b[0;34m\u001b[0m\u001b[0m\n\u001b[0;32m----> 9\u001b[0;31m     \u001b[0;32mfor\u001b[0m \u001b[0msequences\u001b[0m\u001b[0;34m,\u001b[0m \u001b[0mtargets\u001b[0m \u001b[0;32min\u001b[0m \u001b[0mtest_loader\u001b[0m\u001b[0;34m:\u001b[0m\u001b[0;34m\u001b[0m\u001b[0;34m\u001b[0m\u001b[0m\n\u001b[0m\u001b[1;32m     10\u001b[0m \u001b[0;34m\u001b[0m\u001b[0m\n\u001b[1;32m     11\u001b[0m       \u001b[0;31m# predict with model\u001b[0m\u001b[0;34m\u001b[0m\u001b[0;34m\u001b[0m\u001b[0m\n",
            "\u001b[0;32m/usr/local/lib/python3.10/dist-packages/torch/utils/data/dataloader.py\u001b[0m in \u001b[0;36m__next__\u001b[0;34m(self)\u001b[0m\n\u001b[1;32m    628\u001b[0m                 \u001b[0;31m# TODO(https://github.com/pytorch/pytorch/issues/76750)\u001b[0m\u001b[0;34m\u001b[0m\u001b[0;34m\u001b[0m\u001b[0m\n\u001b[1;32m    629\u001b[0m                 \u001b[0mself\u001b[0m\u001b[0;34m.\u001b[0m\u001b[0m_reset\u001b[0m\u001b[0;34m(\u001b[0m\u001b[0;34m)\u001b[0m  \u001b[0;31m# type: ignore[call-arg]\u001b[0m\u001b[0;34m\u001b[0m\u001b[0;34m\u001b[0m\u001b[0m\n\u001b[0;32m--> 630\u001b[0;31m             \u001b[0mdata\u001b[0m \u001b[0;34m=\u001b[0m \u001b[0mself\u001b[0m\u001b[0;34m.\u001b[0m\u001b[0m_next_data\u001b[0m\u001b[0;34m(\u001b[0m\u001b[0;34m)\u001b[0m\u001b[0;34m\u001b[0m\u001b[0;34m\u001b[0m\u001b[0m\n\u001b[0m\u001b[1;32m    631\u001b[0m             \u001b[0mself\u001b[0m\u001b[0;34m.\u001b[0m\u001b[0m_num_yielded\u001b[0m \u001b[0;34m+=\u001b[0m \u001b[0;36m1\u001b[0m\u001b[0;34m\u001b[0m\u001b[0;34m\u001b[0m\u001b[0m\n\u001b[1;32m    632\u001b[0m             \u001b[0;32mif\u001b[0m \u001b[0mself\u001b[0m\u001b[0;34m.\u001b[0m\u001b[0m_dataset_kind\u001b[0m \u001b[0;34m==\u001b[0m \u001b[0m_DatasetKind\u001b[0m\u001b[0;34m.\u001b[0m\u001b[0mIterable\u001b[0m \u001b[0;32mand\u001b[0m\u001b[0;31m \u001b[0m\u001b[0;31m\\\u001b[0m\u001b[0;34m\u001b[0m\u001b[0;34m\u001b[0m\u001b[0m\n",
            "\u001b[0;32m/usr/local/lib/python3.10/dist-packages/torch/utils/data/dataloader.py\u001b[0m in \u001b[0;36m_next_data\u001b[0;34m(self)\u001b[0m\n\u001b[1;32m    672\u001b[0m     \u001b[0;32mdef\u001b[0m \u001b[0m_next_data\u001b[0m\u001b[0;34m(\u001b[0m\u001b[0mself\u001b[0m\u001b[0;34m)\u001b[0m\u001b[0;34m:\u001b[0m\u001b[0;34m\u001b[0m\u001b[0;34m\u001b[0m\u001b[0m\n\u001b[1;32m    673\u001b[0m         \u001b[0mindex\u001b[0m \u001b[0;34m=\u001b[0m \u001b[0mself\u001b[0m\u001b[0;34m.\u001b[0m\u001b[0m_next_index\u001b[0m\u001b[0;34m(\u001b[0m\u001b[0;34m)\u001b[0m  \u001b[0;31m# may raise StopIteration\u001b[0m\u001b[0;34m\u001b[0m\u001b[0;34m\u001b[0m\u001b[0m\n\u001b[0;32m--> 674\u001b[0;31m         \u001b[0mdata\u001b[0m \u001b[0;34m=\u001b[0m \u001b[0mself\u001b[0m\u001b[0;34m.\u001b[0m\u001b[0m_dataset_fetcher\u001b[0m\u001b[0;34m.\u001b[0m\u001b[0mfetch\u001b[0m\u001b[0;34m(\u001b[0m\u001b[0mindex\u001b[0m\u001b[0;34m)\u001b[0m  \u001b[0;31m# may raise StopIteration\u001b[0m\u001b[0;34m\u001b[0m\u001b[0;34m\u001b[0m\u001b[0m\n\u001b[0m\u001b[1;32m    675\u001b[0m         \u001b[0;32mif\u001b[0m \u001b[0mself\u001b[0m\u001b[0;34m.\u001b[0m\u001b[0m_pin_memory\u001b[0m\u001b[0;34m:\u001b[0m\u001b[0;34m\u001b[0m\u001b[0;34m\u001b[0m\u001b[0m\n\u001b[1;32m    676\u001b[0m             \u001b[0mdata\u001b[0m \u001b[0;34m=\u001b[0m \u001b[0m_utils\u001b[0m\u001b[0;34m.\u001b[0m\u001b[0mpin_memory\u001b[0m\u001b[0;34m.\u001b[0m\u001b[0mpin_memory\u001b[0m\u001b[0;34m(\u001b[0m\u001b[0mdata\u001b[0m\u001b[0;34m,\u001b[0m \u001b[0mself\u001b[0m\u001b[0;34m.\u001b[0m\u001b[0m_pin_memory_device\u001b[0m\u001b[0;34m)\u001b[0m\u001b[0;34m\u001b[0m\u001b[0;34m\u001b[0m\u001b[0m\n",
            "\u001b[0;32m/usr/local/lib/python3.10/dist-packages/torch/utils/data/_utils/fetch.py\u001b[0m in \u001b[0;36mfetch\u001b[0;34m(self, possibly_batched_index)\u001b[0m\n\u001b[1;32m     52\u001b[0m         \u001b[0;32melse\u001b[0m\u001b[0;34m:\u001b[0m\u001b[0;34m\u001b[0m\u001b[0;34m\u001b[0m\u001b[0m\n\u001b[1;32m     53\u001b[0m             \u001b[0mdata\u001b[0m \u001b[0;34m=\u001b[0m \u001b[0mself\u001b[0m\u001b[0;34m.\u001b[0m\u001b[0mdataset\u001b[0m\u001b[0;34m[\u001b[0m\u001b[0mpossibly_batched_index\u001b[0m\u001b[0;34m]\u001b[0m\u001b[0;34m\u001b[0m\u001b[0;34m\u001b[0m\u001b[0m\n\u001b[0;32m---> 54\u001b[0;31m         \u001b[0;32mreturn\u001b[0m \u001b[0mself\u001b[0m\u001b[0;34m.\u001b[0m\u001b[0mcollate_fn\u001b[0m\u001b[0;34m(\u001b[0m\u001b[0mdata\u001b[0m\u001b[0;34m)\u001b[0m\u001b[0;34m\u001b[0m\u001b[0;34m\u001b[0m\u001b[0m\n\u001b[0m",
            "\u001b[0;32m/usr/local/lib/python3.10/dist-packages/torch/utils/data/_utils/collate.py\u001b[0m in \u001b[0;36mdefault_collate\u001b[0;34m(batch)\u001b[0m\n\u001b[1;32m    263\u001b[0m             \u001b[0;34m>>\u001b[0m\u001b[0;34m>\u001b[0m \u001b[0mdefault_collate\u001b[0m\u001b[0;34m(\u001b[0m\u001b[0mbatch\u001b[0m\u001b[0;34m)\u001b[0m  \u001b[0;31m# Handle `CustomType` automatically\u001b[0m\u001b[0;34m\u001b[0m\u001b[0;34m\u001b[0m\u001b[0m\n\u001b[1;32m    264\u001b[0m     \"\"\"\n\u001b[0;32m--> 265\u001b[0;31m     \u001b[0;32mreturn\u001b[0m \u001b[0mcollate\u001b[0m\u001b[0;34m(\u001b[0m\u001b[0mbatch\u001b[0m\u001b[0;34m,\u001b[0m \u001b[0mcollate_fn_map\u001b[0m\u001b[0;34m=\u001b[0m\u001b[0mdefault_collate_fn_map\u001b[0m\u001b[0;34m)\u001b[0m\u001b[0;34m\u001b[0m\u001b[0;34m\u001b[0m\u001b[0m\n\u001b[0m",
            "\u001b[0;32m/usr/local/lib/python3.10/dist-packages/torch/utils/data/_utils/collate.py\u001b[0m in \u001b[0;36mcollate\u001b[0;34m(batch, collate_fn_map)\u001b[0m\n\u001b[1;32m    140\u001b[0m \u001b[0;34m\u001b[0m\u001b[0m\n\u001b[1;32m    141\u001b[0m         \u001b[0;32mif\u001b[0m \u001b[0misinstance\u001b[0m\u001b[0;34m(\u001b[0m\u001b[0melem\u001b[0m\u001b[0;34m,\u001b[0m \u001b[0mtuple\u001b[0m\u001b[0;34m)\u001b[0m\u001b[0;34m:\u001b[0m\u001b[0;34m\u001b[0m\u001b[0;34m\u001b[0m\u001b[0m\n\u001b[0;32m--> 142\u001b[0;31m             \u001b[0;32mreturn\u001b[0m \u001b[0;34m[\u001b[0m\u001b[0mcollate\u001b[0m\u001b[0;34m(\u001b[0m\u001b[0msamples\u001b[0m\u001b[0;34m,\u001b[0m \u001b[0mcollate_fn_map\u001b[0m\u001b[0;34m=\u001b[0m\u001b[0mcollate_fn_map\u001b[0m\u001b[0;34m)\u001b[0m \u001b[0;32mfor\u001b[0m \u001b[0msamples\u001b[0m \u001b[0;32min\u001b[0m \u001b[0mtransposed\u001b[0m\u001b[0;34m]\u001b[0m  \u001b[0;31m# Backwards compatibility.\u001b[0m\u001b[0;34m\u001b[0m\u001b[0;34m\u001b[0m\u001b[0m\n\u001b[0m\u001b[1;32m    143\u001b[0m         \u001b[0;32melse\u001b[0m\u001b[0;34m:\u001b[0m\u001b[0;34m\u001b[0m\u001b[0;34m\u001b[0m\u001b[0m\n\u001b[1;32m    144\u001b[0m             \u001b[0;32mtry\u001b[0m\u001b[0;34m:\u001b[0m\u001b[0;34m\u001b[0m\u001b[0;34m\u001b[0m\u001b[0m\n",
            "\u001b[0;32m/usr/local/lib/python3.10/dist-packages/torch/utils/data/_utils/collate.py\u001b[0m in \u001b[0;36m<listcomp>\u001b[0;34m(.0)\u001b[0m\n\u001b[1;32m    140\u001b[0m \u001b[0;34m\u001b[0m\u001b[0m\n\u001b[1;32m    141\u001b[0m         \u001b[0;32mif\u001b[0m \u001b[0misinstance\u001b[0m\u001b[0;34m(\u001b[0m\u001b[0melem\u001b[0m\u001b[0;34m,\u001b[0m \u001b[0mtuple\u001b[0m\u001b[0;34m)\u001b[0m\u001b[0;34m:\u001b[0m\u001b[0;34m\u001b[0m\u001b[0;34m\u001b[0m\u001b[0m\n\u001b[0;32m--> 142\u001b[0;31m             \u001b[0;32mreturn\u001b[0m \u001b[0;34m[\u001b[0m\u001b[0mcollate\u001b[0m\u001b[0;34m(\u001b[0m\u001b[0msamples\u001b[0m\u001b[0;34m,\u001b[0m \u001b[0mcollate_fn_map\u001b[0m\u001b[0;34m=\u001b[0m\u001b[0mcollate_fn_map\u001b[0m\u001b[0;34m)\u001b[0m \u001b[0;32mfor\u001b[0m \u001b[0msamples\u001b[0m \u001b[0;32min\u001b[0m \u001b[0mtransposed\u001b[0m\u001b[0;34m]\u001b[0m  \u001b[0;31m# Backwards compatibility.\u001b[0m\u001b[0;34m\u001b[0m\u001b[0;34m\u001b[0m\u001b[0m\n\u001b[0m\u001b[1;32m    143\u001b[0m         \u001b[0;32melse\u001b[0m\u001b[0;34m:\u001b[0m\u001b[0;34m\u001b[0m\u001b[0;34m\u001b[0m\u001b[0m\n\u001b[1;32m    144\u001b[0m             \u001b[0;32mtry\u001b[0m\u001b[0;34m:\u001b[0m\u001b[0;34m\u001b[0m\u001b[0;34m\u001b[0m\u001b[0m\n",
            "\u001b[0;32m/usr/local/lib/python3.10/dist-packages/torch/utils/data/_utils/collate.py\u001b[0m in \u001b[0;36mcollate\u001b[0;34m(batch, collate_fn_map)\u001b[0m\n\u001b[1;32m    117\u001b[0m     \u001b[0;32mif\u001b[0m \u001b[0mcollate_fn_map\u001b[0m \u001b[0;32mis\u001b[0m \u001b[0;32mnot\u001b[0m \u001b[0;32mNone\u001b[0m\u001b[0;34m:\u001b[0m\u001b[0;34m\u001b[0m\u001b[0;34m\u001b[0m\u001b[0m\n\u001b[1;32m    118\u001b[0m         \u001b[0;32mif\u001b[0m \u001b[0melem_type\u001b[0m \u001b[0;32min\u001b[0m \u001b[0mcollate_fn_map\u001b[0m\u001b[0;34m:\u001b[0m\u001b[0;34m\u001b[0m\u001b[0;34m\u001b[0m\u001b[0m\n\u001b[0;32m--> 119\u001b[0;31m             \u001b[0;32mreturn\u001b[0m \u001b[0mcollate_fn_map\u001b[0m\u001b[0;34m[\u001b[0m\u001b[0melem_type\u001b[0m\u001b[0;34m]\u001b[0m\u001b[0;34m(\u001b[0m\u001b[0mbatch\u001b[0m\u001b[0;34m,\u001b[0m \u001b[0mcollate_fn_map\u001b[0m\u001b[0;34m=\u001b[0m\u001b[0mcollate_fn_map\u001b[0m\u001b[0;34m)\u001b[0m\u001b[0;34m\u001b[0m\u001b[0;34m\u001b[0m\u001b[0m\n\u001b[0m\u001b[1;32m    120\u001b[0m \u001b[0;34m\u001b[0m\u001b[0m\n\u001b[1;32m    121\u001b[0m         \u001b[0;32mfor\u001b[0m \u001b[0mcollate_type\u001b[0m \u001b[0;32min\u001b[0m \u001b[0mcollate_fn_map\u001b[0m\u001b[0;34m:\u001b[0m\u001b[0;34m\u001b[0m\u001b[0;34m\u001b[0m\u001b[0m\n",
            "\u001b[0;32m/usr/local/lib/python3.10/dist-packages/torch/utils/data/_utils/collate.py\u001b[0m in \u001b[0;36mcollate_tensor_fn\u001b[0;34m(batch, collate_fn_map)\u001b[0m\n\u001b[1;32m    160\u001b[0m         \u001b[0mstorage\u001b[0m \u001b[0;34m=\u001b[0m \u001b[0melem\u001b[0m\u001b[0;34m.\u001b[0m\u001b[0m_typed_storage\u001b[0m\u001b[0;34m(\u001b[0m\u001b[0;34m)\u001b[0m\u001b[0;34m.\u001b[0m\u001b[0m_new_shared\u001b[0m\u001b[0;34m(\u001b[0m\u001b[0mnumel\u001b[0m\u001b[0;34m,\u001b[0m \u001b[0mdevice\u001b[0m\u001b[0;34m=\u001b[0m\u001b[0melem\u001b[0m\u001b[0;34m.\u001b[0m\u001b[0mdevice\u001b[0m\u001b[0;34m)\u001b[0m\u001b[0;34m\u001b[0m\u001b[0;34m\u001b[0m\u001b[0m\n\u001b[1;32m    161\u001b[0m         \u001b[0mout\u001b[0m \u001b[0;34m=\u001b[0m \u001b[0melem\u001b[0m\u001b[0;34m.\u001b[0m\u001b[0mnew\u001b[0m\u001b[0;34m(\u001b[0m\u001b[0mstorage\u001b[0m\u001b[0;34m)\u001b[0m\u001b[0;34m.\u001b[0m\u001b[0mresize_\u001b[0m\u001b[0;34m(\u001b[0m\u001b[0mlen\u001b[0m\u001b[0;34m(\u001b[0m\u001b[0mbatch\u001b[0m\u001b[0;34m)\u001b[0m\u001b[0;34m,\u001b[0m \u001b[0;34m*\u001b[0m\u001b[0mlist\u001b[0m\u001b[0;34m(\u001b[0m\u001b[0melem\u001b[0m\u001b[0;34m.\u001b[0m\u001b[0msize\u001b[0m\u001b[0;34m(\u001b[0m\u001b[0;34m)\u001b[0m\u001b[0;34m)\u001b[0m\u001b[0;34m)\u001b[0m\u001b[0;34m\u001b[0m\u001b[0;34m\u001b[0m\u001b[0m\n\u001b[0;32m--> 162\u001b[0;31m     \u001b[0;32mreturn\u001b[0m \u001b[0mtorch\u001b[0m\u001b[0;34m.\u001b[0m\u001b[0mstack\u001b[0m\u001b[0;34m(\u001b[0m\u001b[0mbatch\u001b[0m\u001b[0;34m,\u001b[0m \u001b[0;36m0\u001b[0m\u001b[0;34m,\u001b[0m \u001b[0mout\u001b[0m\u001b[0;34m=\u001b[0m\u001b[0mout\u001b[0m\u001b[0;34m)\u001b[0m\u001b[0;34m\u001b[0m\u001b[0;34m\u001b[0m\u001b[0m\n\u001b[0m\u001b[1;32m    163\u001b[0m \u001b[0;34m\u001b[0m\u001b[0m\n\u001b[1;32m    164\u001b[0m \u001b[0;34m\u001b[0m\u001b[0m\n",
            "\u001b[0;31mKeyboardInterrupt\u001b[0m: "
          ]
        }
      ]
    },
    {
      "cell_type": "markdown",
      "source": [
        "#Visualize Training Results"
      ],
      "metadata": {
        "id": "Gfy-RKl0UX8b"
      }
    },
    {
      "cell_type": "code",
      "source": [
        "plt.figure(figsize = (8, 6))\n",
        "plt.plot(train_losses, label = 'Train')\n",
        "plt.plot(val_losses, label = 'Validation')\n",
        "plt.legend()\n",
        "plt.ylabel(\"RMSE\")\n",
        "plt.xlabel(\"Epochs\")\n",
        "plt.title(\"1 Layer LSTM Training Curve\\nfor Forecasting Bitcoin Prices\")"
      ],
      "metadata": {
        "id": "ZEF8FCpcZX4L",
        "colab": {
          "base_uri": "https://localhost:8080/",
          "height": 603
        },
        "outputId": "b3f49e7a-d469-4cc8-d057-a0acb5ccbece"
      },
      "execution_count": null,
      "outputs": [
        {
          "output_type": "execute_result",
          "data": {
            "text/plain": [
              "Text(0.5, 1.0, '1 Layer LSTM Training Curve\\nfor Forecasting Bitcoin Prices')"
            ]
          },
          "metadata": {},
          "execution_count": 33
        },
        {
          "output_type": "display_data",
          "data": {
            "text/plain": [
              "<Figure size 800x600 with 1 Axes>"
            ],
            "image/png": "[encoded data removed]"
          },
          "metadata": {}
        }
      ]
    },
    {
      "cell_type": "markdown",
      "source": [
        "#Eval on Test Data"
      ],
      "metadata": {
        "id": "Oi_wPFqHVTZs"
      }
    },
    {
      "cell_type": "code",
      "source": [
        "test_one_epoch(test_loader, LSTMModel, DEVICE)"
      ],
      "metadata": {
        "colab": {
          "base_uri": "https://localhost:8080/"
        },
        "id": "wsGIFHqHVetV",
        "outputId": "30dcf812-583e-4285-e56a-a6f929992010"
      },
      "execution_count": null,
      "outputs": [
        {
          "output_type": "execute_result",
          "data": {
            "text/plain": [
              "0.018761243671178818"
            ]
          },
          "metadata": {},
          "execution_count": 34
        }
      ]
    }
  ]
}